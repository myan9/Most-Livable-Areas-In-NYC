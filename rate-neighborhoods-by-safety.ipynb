{
 "cells": [
  {
   "cell_type": "code",
   "execution_count": 43,
   "metadata": {},
   "outputs": [],
   "source": [
    "import pandas as pd\n",
    "\n",
    "complaints = pd.read_csv('complaints-rate.csv')\n",
    "arrest =  pd.read_csv('total_arrest.csv')"
   ]
  },
  {
   "cell_type": "code",
   "execution_count": 44,
   "metadata": {},
   "outputs": [],
   "source": [
    "neighborhoods = {\n",
    "    \"Upper West Side\": [10023, 10024, 10025, 10069],\n",
    "    \"Midtown West\": [10019, 10018, 10036, 10001],\n",
    "    \"Chelsea\": [10001, 10011],\n",
    "    \"West Village\": [10014],\n",
    "    \"SOHO\": [10013, 10012],\n",
    "    \"Tribeca\": [10007, 10013, 10282],\n",
    "    \"Battery Park\": [10280, 10004, 10282, 10006],\n",
    "    \"Financial District\": [10004, 10005, 10006, 10038],\n",
    "    \"Upper East Side\": [10021, 10065, 10075, 10128, 10028, 10022],\n",
    "    \"Midtown East\": [10022, 10017],\n",
    "    \"Murray Hill\": [10016],\n",
    "    \"Gramercy Flatiron\": [10010],\n",
    "    \"East Village\": [10003, 10009, 10002]\n",
    "}\n"
   ]
  },
  {
   "cell_type": "code",
   "execution_count": 45,
   "metadata": {},
   "outputs": [
    {
     "name": "stdout",
     "output_type": "stream",
     "text": [
      "{'Upper West Side': 29.0, 'Midtown West': 80.81, 'Chelsea': 14.69, 'West Village': 11.33, 'SOHO': 15.29, 'Tribeca': 28.57, 'Battery Park': 63.17, 'Financial District': 78.6, 'Upper East Side': 15.86, 'Midtown East': 5.5, 'Murray Hill': 2.74, 'Gramercy Flatiron': 6.05, 'East Village': 15.11}\n"
     ]
    }
   ],
   "source": [
    "result = {}\n",
    "for area in neighborhoods:\n",
    "    zipcodes = neighborhoods[area]\n",
    "    total_safety_indicator = 0\n",
    "    for code in zipcodes:\n",
    "        complaints_rate = complaints[complaints[\"zipcode\"] == code][\"complaint_rate\"].values[0]\n",
    "        arrest_rate = arrest[arrest[\"zipcode\"]\n",
    "                             == code][\"arrest_rate\"].values[0]\n",
    "        # print(area, complaints_rate, arrest_rate)\n",
    "        total_safety_indicator += complaints_rate + arrest_rate\n",
    "    result[area] = round(total_safety_indicator, 3)\n",
    "    # print(area, total_complaints_rate)\n",
    "print(result)\n"
   ]
  },
  {
   "cell_type": "code",
   "execution_count": 46,
   "metadata": {},
   "outputs": [
    {
     "data": {
      "text/plain": [
       "{'Murray Hill': 2.74,\n",
       " 'Midtown East': 5.5,\n",
       " 'Gramercy Flatiron': 6.05,\n",
       " 'West Village': 11.33,\n",
       " 'Chelsea': 14.69,\n",
       " 'East Village': 15.11,\n",
       " 'SOHO': 15.29,\n",
       " 'Upper East Side': 15.86,\n",
       " 'Tribeca': 28.57,\n",
       " 'Upper West Side': 29.0,\n",
       " 'Battery Park': 63.17,\n",
       " 'Financial District': 78.6,\n",
       " 'Midtown West': 80.81}"
      ]
     },
     "execution_count": 46,
     "metadata": {},
     "output_type": "execute_result"
    }
   ],
   "source": [
    "{k: v for k, v in sorted(result.items(), key=lambda item: item[1])}\n"
   ]
  },
  {
   "cell_type": "code",
   "execution_count": null,
   "metadata": {},
   "outputs": [],
   "source": []
  }
 ],
 "metadata": {
  "interpreter": {
   "hash": "aee8b7b246df8f9039afb4144a1f6fd8d2ca17a180786b69acc140d282b71a49"
  },
  "kernelspec": {
   "display_name": "Python 3.9.9 64-bit",
   "language": "python",
   "name": "python3"
  },
  "language_info": {
   "codemirror_mode": {
    "name": "ipython",
    "version": 3
   },
   "file_extension": ".py",
   "mimetype": "text/x-python",
   "name": "python",
   "nbconvert_exporter": "python",
   "pygments_lexer": "ipython3",
   "version": "3.9.9"
  },
  "orig_nbformat": 4
 },
 "nbformat": 4,
 "nbformat_minor": 2
}
