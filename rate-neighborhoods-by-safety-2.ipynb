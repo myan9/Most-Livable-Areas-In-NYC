{
 "cells": [
  {
   "cell_type": "code",
   "execution_count": 2,
   "metadata": {},
   "outputs": [],
   "source": [
    "import pandas as pd\n",
    "\n",
    "complaints = pd.read_csv('total-complaints-zipcode.csv')\n",
    "# arrest =  pd.read_csv('total_arrest.csv')"
   ]
  },
  {
   "cell_type": "code",
   "execution_count": 3,
   "metadata": {},
   "outputs": [],
   "source": [
    "neighborhoods = {\n",
    "    \"Upper West Side\": [10023, 10024, 10025, 10069],\n",
    "    \"Midtown West\": [10019, 10018, 10036, 10001],\n",
    "    \"Chelsea\": [10001, 10011],\n",
    "    \"West Village\": [10014],\n",
    "    \"SOHO\": [10013, 10012],\n",
    "    \"Tribeca\": [10007, 10013, 10282],\n",
    "    \"Battery Park\": [10280, 10004, 10282, 10006],\n",
    "    \"Financial District\": [10004, 10005, 10006, 10038],\n",
    "    \"Upper East Side\": [10021, 10065, 10075, 10128, 10028, 10022],\n",
    "    \"Midtown East\": [10022, 10017],\n",
    "    \"Murray Hill\": [10016],\n",
    "    \"Gramercy Flatiron\": [10010],\n",
    "    \"East Village\": [10003, 10009, 10002]\n",
    "}\n"
   ]
  },
  {
   "cell_type": "code",
   "execution_count": 4,
   "metadata": {},
   "outputs": [
    {
     "name": "stdout",
     "output_type": "stream",
     "text": [
      "{'Upper West Side': 139615, 'Midtown West': 164464, 'Chelsea': 90752, 'West Village': 47118, 'SOHO': 74394, 'Tribeca': 63573, 'Battery Park': 57715, 'Financial District': 87423, 'Upper East Side': 154545, 'Midtown East': 33561, 'Murray Hill': 25177, 'Gramercy Flatiron': 35618, 'East Village': 157985}\n"
     ]
    }
   ],
   "source": [
    "result = {}\n",
    "for area in neighborhoods:\n",
    "    zipcodes = neighborhoods[area]\n",
    "    total_safety_indicator = 0\n",
    "    for code in zipcodes:\n",
    "        complaints_rate = complaints[complaints[\"ZIPCODE\"] == code][\"COMPLAINT_COUNT\"].values[0]\n",
    "        # arrest_rate = arrest[arrest[\"zipcode\"]\n",
    "        #                     == code][\"arrest_rate\"].values[0]\n",
    "        # print(area, complaints_rate, arrest_rate)\n",
    "        # total_safety_indicator += complaints_rate + arrest_rate\n",
    "        total_safety_indicator += complaints_rate\n",
    "    result[area] = round(total_safety_indicator, 3)\n",
    "    # print(area, total_complaints_rate)\n",
    "print(result)\n"
   ]
  },
  {
   "cell_type": "code",
   "execution_count": 5,
   "metadata": {},
   "outputs": [
    {
     "data": {
      "text/plain": [
       "{'Murray Hill': 25177,\n",
       " 'Midtown East': 33561,\n",
       " 'Gramercy Flatiron': 35618,\n",
       " 'West Village': 47118,\n",
       " 'Battery Park': 57715,\n",
       " 'Tribeca': 63573,\n",
       " 'SOHO': 74394,\n",
       " 'Financial District': 87423,\n",
       " 'Chelsea': 90752,\n",
       " 'Upper West Side': 139615,\n",
       " 'Upper East Side': 154545,\n",
       " 'East Village': 157985,\n",
       " 'Midtown West': 164464}"
      ]
     },
     "execution_count": 5,
     "metadata": {},
     "output_type": "execute_result"
    }
   ],
   "source": [
    "{k: v for k, v in sorted(result.items(), key=lambda item: item[1])}\n"
   ]
  },
  {
   "cell_type": "code",
   "execution_count": 16,
   "metadata": {},
   "outputs": [
    {
     "data": {
      "text/html": [
       "<div>\n",
       "<style scoped>\n",
       "    .dataframe tbody tr th:only-of-type {\n",
       "        vertical-align: middle;\n",
       "    }\n",
       "\n",
       "    .dataframe tbody tr th {\n",
       "        vertical-align: top;\n",
       "    }\n",
       "\n",
       "    .dataframe thead th {\n",
       "        text-align: right;\n",
       "    }\n",
       "</style>\n",
       "<table border=\"1\" class=\"dataframe\">\n",
       "  <thead>\n",
       "    <tr style=\"text-align: right;\">\n",
       "      <th></th>\n",
       "      <th>ZIPCODE</th>\n",
       "      <th>COMPLAINT_COUNT</th>\n",
       "    </tr>\n",
       "  </thead>\n",
       "  <tbody>\n",
       "    <tr>\n",
       "      <th>71</th>\n",
       "      <td>10280</td>\n",
       "      <td>9699</td>\n",
       "    </tr>\n",
       "    <tr>\n",
       "      <th>60</th>\n",
       "      <td>10169</td>\n",
       "      <td>11117</td>\n",
       "    </tr>\n",
       "    <tr>\n",
       "      <th>63</th>\n",
       "      <td>10172</td>\n",
       "      <td>12281</td>\n",
       "    </tr>\n",
       "    <tr>\n",
       "      <th>70</th>\n",
       "      <td>10279</td>\n",
       "      <td>12848</td>\n",
       "    </tr>\n",
       "    <tr>\n",
       "      <th>72</th>\n",
       "      <td>10281</td>\n",
       "      <td>13086</td>\n",
       "    </tr>\n",
       "    <tr>\n",
       "      <th>58</th>\n",
       "      <td>10167</td>\n",
       "      <td>14364</td>\n",
       "    </tr>\n",
       "    <tr>\n",
       "      <th>53</th>\n",
       "      <td>10152</td>\n",
       "      <td>14582</td>\n",
       "    </tr>\n",
       "    <tr>\n",
       "      <th>5</th>\n",
       "      <td>10006</td>\n",
       "      <td>14939</td>\n",
       "    </tr>\n",
       "    <tr>\n",
       "      <th>68</th>\n",
       "      <td>10271</td>\n",
       "      <td>15808</td>\n",
       "    </tr>\n",
       "    <tr>\n",
       "      <th>3</th>\n",
       "      <td>10004</td>\n",
       "      <td>16128</td>\n",
       "    </tr>\n",
       "  </tbody>\n",
       "</table>\n",
       "</div>"
      ],
      "text/plain": [
       "    ZIPCODE  COMPLAINT_COUNT\n",
       "71    10280             9699\n",
       "60    10169            11117\n",
       "63    10172            12281\n",
       "70    10279            12848\n",
       "72    10281            13086\n",
       "58    10167            14364\n",
       "53    10152            14582\n",
       "5     10006            14939\n",
       "68    10271            15808\n",
       "3     10004            16128"
      ]
     },
     "execution_count": 16,
     "metadata": {},
     "output_type": "execute_result"
    }
   ],
   "source": [
    "manhattan = complaints[(complaints[\"ZIPCODE\"] <= 10282) & (complaints[\"ZIPCODE\"] >= 10001)]\n",
    "manhattan.sort_values(by=['COMPLAINT_COUNT'])[:10]\n"
   ]
  },
  {
   "cell_type": "code",
   "execution_count": null,
   "metadata": {},
   "outputs": [],
   "source": []
  }
 ],
 "metadata": {
  "interpreter": {
   "hash": "aee8b7b246df8f9039afb4144a1f6fd8d2ca17a180786b69acc140d282b71a49"
  },
  "kernelspec": {
   "display_name": "Python 3.9.9 64-bit",
   "language": "python",
   "name": "python3"
  },
  "language_info": {
   "codemirror_mode": {
    "name": "ipython",
    "version": 3
   },
   "file_extension": ".py",
   "mimetype": "text/x-python",
   "name": "python",
   "nbconvert_exporter": "python",
   "pygments_lexer": "ipython3",
   "version": "3.9.9"
  },
  "orig_nbformat": 4
 },
 "nbformat": 4,
 "nbformat_minor": 2
}
